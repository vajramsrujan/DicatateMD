{
  "cells": [
    {
      "cell_type": "markdown",
      "source": [
        "# Introduction"
      ],
      "metadata": {
        "id": "iebmEDpt2eYS"
      }
    },
    {
      "cell_type": "code",
      "source": [
        "from google.colab import drive\n",
        "drive.mount('/content/drive')"
      ],
      "metadata": {
        "colab": {
          "base_uri": "https://localhost:8080/"
        },
        "id": "Oxt1F2od9fNx",
        "outputId": "3c5facd4-47ac-4f80-e194-df1da7222cdc"
      },
      "execution_count": null,
      "outputs": [
        {
          "output_type": "stream",
          "name": "stdout",
          "text": [
            "Mounted at /content/drive\n"
          ]
        }
      ]
    },
    {
      "cell_type": "markdown",
      "source": [
        "In this notebook, I attempt to produce a classifier that maps medical transcripts to their associated medicla specialty. This is a multi-label text sequence classification problem. I outline my strategy below:\n",
        "\n",
        "1. Inspect and understand data\n",
        "2. Clean data\n",
        "3. Pre-process data (ex: remove special characters, normalization)\n",
        "4. Produce train, validation and test splits\n",
        "5. Choose a tokenizer and a model\n",
        "6. Tokenize the data\n",
        "7. Instantiate model and training loop\n",
        "8. Train\n",
        "9. Evaluate training on validation and test sets.\n",
        "10. Lock or re-adjust training strategy based on results"
      ],
      "metadata": {
        "id": "NpToOLZ-2lsU"
      }
    },
    {
      "cell_type": "code",
      "source": [
        "# pip install all required packages\n",
        "!pip install torch\n",
        "!pip install evaluate\n",
        "!pip install datasets\n",
        "!pip install transformers\n",
        "!pip install accelerate -U"
      ],
      "metadata": {
        "id": "M3wgn_fj9x8G"
      },
      "execution_count": null,
      "outputs": []
    },
    {
      "cell_type": "markdown",
      "source": [
        "**1. Inspect Data**"
      ],
      "metadata": {
        "id": "iR4YNP7S3dds"
      }
    },
    {
      "cell_type": "code",
      "execution_count": null,
      "metadata": {
        "id": "D2Wg_FdJGbNT"
      },
      "outputs": [],
      "source": [
        "# Imports\n",
        "import re\n",
        "import torch\n",
        "import evaluate\n",
        "import numpy as np\n",
        "import pandas as pd\n",
        "\n",
        "from tqdm.auto import tqdm\n",
        "from functools import partial\n",
        "from collections import Counter\n",
        "from matplotlib import pyplot as plt\n",
        "from torch.utils.data import DataLoader\n",
        "from nltk.stem import WordNetLemmatizer\n",
        "from transformers import DataCollatorWithPadding\n",
        "from datasets import load_dataset, ClassLabel, DatasetDict\n",
        "from sklearn.metrics import precision_recall_fscore_support, accuracy_score\n",
        "from transformers import AutoModelForSequenceClassification, AutoTokenizer, AdamW, get_scheduler, TrainingArguments, Trainer\n",
        "\n",
        "# Use GPU if available\n",
        "device = torch.device(\"cuda\") if torch.cuda.is_available() else torch.device(\"cpu\")\n",
        "\n",
        "# LOAD DATA as a csv file\n",
        "data = load_dataset(\"csv\", data_files=\"/content/drive/MyDrive/Colab Notebooks/mtsamples.csv\")\n",
        "\n",
        "# We inspect our data by looking at a few fields of interest. Namely 'medical_specialty' and 'transcription.'\n",
        "# 1. How many unique labels exist?\n",
        "set(data['train']['medical_specialty'])\n",
        "\n",
        "# A quick glance determines that there are around 40 unique labels.\n",
        "# Our first focus is to determine what specialties are relevant for our classification problem."
      ]
    },
    {
      "cell_type": "code",
      "source": [
        "Counter(data['train']['medical_specialty'])"
      ],
      "metadata": {
        "colab": {
          "base_uri": "https://localhost:8080/"
        },
        "id": "UUf7MgFQcZ1J",
        "outputId": "7247c8ee-140e-4e77-ce4d-13be70c15923"
      },
      "execution_count": 74,
      "outputs": [
        {
          "output_type": "execute_result",
          "data": {
            "text/plain": [
              "Counter({' Allergy / Immunology': 7,\n",
              "         ' Bariatrics': 18,\n",
              "         ' Cardiovascular / Pulmonary': 372,\n",
              "         ' Neurology': 223,\n",
              "         ' Dentistry': 27,\n",
              "         ' Urology': 158,\n",
              "         ' General Medicine': 259,\n",
              "         ' Surgery': 1103,\n",
              "         ' Speech - Language': 9,\n",
              "         ' SOAP / Chart / Progress Notes': 166,\n",
              "         ' Sleep Medicine': 20,\n",
              "         ' Rheumatology': 10,\n",
              "         ' Radiology': 273,\n",
              "         ' Psychiatry / Psychology': 53,\n",
              "         ' Podiatry': 47,\n",
              "         ' Physical Medicine - Rehab': 21,\n",
              "         ' Pediatrics - Neonatal': 70,\n",
              "         ' Pain Management': 62,\n",
              "         ' Orthopedic': 355,\n",
              "         ' Ophthalmology': 83,\n",
              "         ' Office Notes': 51,\n",
              "         ' Obstetrics / Gynecology': 160,\n",
              "         ' Neurosurgery': 94,\n",
              "         ' Nephrology': 81,\n",
              "         ' Letters': 23,\n",
              "         ' Lab Medicine - Pathology': 8,\n",
              "         ' IME-QME-Work Comp etc.': 16,\n",
              "         ' Hospice - Palliative Care': 6,\n",
              "         ' Hematology - Oncology': 90,\n",
              "         ' Gastroenterology': 230,\n",
              "         ' ENT - Otolaryngology': 98,\n",
              "         ' Endocrinology': 19,\n",
              "         ' Emergency Room Reports': 75,\n",
              "         ' Discharge Summary': 108,\n",
              "         ' Diets and Nutritions': 10,\n",
              "         ' Dermatology': 29,\n",
              "         ' Cosmetic / Plastic Surgery': 27,\n",
              "         ' Consult - History and Phy.': 516,\n",
              "         ' Chiropractic': 14,\n",
              "         ' Autopsy': 8})"
            ]
          },
          "metadata": {},
          "execution_count": 74
        }
      ]
    },
    {
      "cell_type": "markdown",
      "source": [
        "**2. Clean data**"
      ],
      "metadata": {
        "id": "ICw6ohmh4pdm"
      }
    },
    {
      "cell_type": "code",
      "execution_count": 53,
      "metadata": {
        "id": "K2EWNzHwRbJZ"
      },
      "outputs": [],
      "source": [
        "# From looking at the labels, I determine there are a handful that are not medical specialties, but fall\n",
        "# into the category of 'notes'. We remove these labels:\n",
        "notes_labels = [\" Consult - History and Phy.\",\n",
        "         \" SOAP / Chart / Progress Notes\",\n",
        "         \" Discharge Summary\",\n",
        "         \" Emergency Room Reports\",\n",
        "         \" Office Notes\",\n",
        "         \" Letters\",\n",
        "         \" IME-QME-Work Comp etc.\"]\n",
        "\n",
        "# I also noticed the specialty 'General Medicine' in the dataset was\n",
        "# not in the strictest sense a specialty, since it could generally\n",
        "# be attributed to many other 'specialties' (i.e a lot of specialties)\n",
        "# are a subset of 'General Medicine.' As such I decided to exclude it as well.\n",
        "\n",
        "# Additionally, I'd like to get a sense of the frequency of each specialty in the dataset\n",
        "# Ideally we do NOT want to include specialties that have very few entries, since\n",
        "# there simply wont be enough data to split for model training between training,validation and test.\n",
        "# I choose 75 as the cutoff point, though this is a bit arbitrary.\n",
        "labels = data['train'][:]['medical_specialty']\n",
        "label_freq = Counter(labels)\n",
        "fewer_than_75 = []\n",
        "\n",
        "# Add specialties with fewer than 75 entries\n",
        "for key, value in label_freq.items():\n",
        "  if value < 75:\n",
        "    fewer_than_75.append(key)\n",
        "\n",
        "# Filter data according to a few properties:\n",
        "# a. Filter out any specialties that belong to the notes_labels\n",
        "# b. Filter any specialties with fewer than 75 entries\n",
        "# c. Filter 'General Medicine'\n",
        "# d. Filter empty entries\n",
        "filtered_data = data.filter(lambda x: x[\"medical_specialty\"] not in notes_labels\n",
        "                            and x[\"medical_specialty\"] not in fewer_than_75\n",
        "                            and x[\"medical_specialty\"] not in \" General Medicine\"\n",
        "                            and x[\"medical_specialty\"] is not None\n",
        "                            and x['transcription'] is not None)\n",
        "\n",
        "# Extra filter step to remove any transcriptions that are less than 10 words.\n",
        "filtered_data = filtered_data.filter(lambda x: len(x[\"transcription\"].split()) > 10)"
      ]
    },
    {
      "cell_type": "markdown",
      "source": [
        "**3. Pre-process**"
      ],
      "metadata": {
        "id": "SPiNtFO361Pe"
      }
    },
    {
      "cell_type": "code",
      "execution_count": 54,
      "metadata": {
        "id": "-O6X4B_ufTYu"
      },
      "outputs": [],
      "source": [
        "# Now that the dataset is pruned, we must still pre-process our transcripts before tokenizing\n",
        "# We define a mapping function that allows us to modify our fields of interest quickly (this is much faster than a for loop.)\n",
        "# due to parallelization\n",
        "\n",
        "def sanitize(example):\n",
        "    # Modify the column to remove special characters from the transcriptions\n",
        "    # Generally, special characters can make it more difficult for a classifier to\n",
        "    # abstract features.\n",
        "    example[\"transcription\"] = re.sub(r'[^a-zA-Z0-9]', ' ', example[\"transcription\"])\n",
        "    return example\n",
        "\n",
        "# Sanitize the data of special chars\n",
        "filtered_data_sanitized = filtered_data.map(sanitize)"
      ]
    },
    {
      "cell_type": "code",
      "execution_count": 55,
      "metadata": {
        "id": "pk_0g-JfPf59"
      },
      "outputs": [],
      "source": [
        "# Generate Labels for the data\n",
        "# Here we need to assign a class label (a number) to each specialty.\n",
        "# Obtain unique class labels\n",
        "unique_labels = list(set(filtered_data_sanitized['train']['medical_specialty']))\n",
        "class_labels = ClassLabel(names=unique_labels)\n",
        "\n",
        "# Map original column to class labels\n",
        "filtered_data_withlabel = filtered_data_sanitized.map(lambda x: {\"labels\": class_labels.str2int(x['medical_specialty'])})\n",
        "filtered_data_withlabel = filtered_data_withlabel.class_encode_column(\"labels\")"
      ]
    },
    {
      "cell_type": "markdown",
      "source": [
        "**4. Produce train, validation and test splits**"
      ],
      "metadata": {
        "id": "r5L6fCCA-ZLD"
      }
    },
    {
      "cell_type": "code",
      "execution_count": 56,
      "metadata": {
        "id": "8ZeN5a9zosje"
      },
      "outputs": [],
      "source": [
        "# We use the train_test_split functionality to create our splits\n",
        "# Note: All our splits are stratified by our labels so that we have a proportional split\n",
        "# of classes between our sets. This prevents, for example one or multiple classes from ending up\n",
        "# in exlusively one split.\n",
        "\n",
        "# We take about 70% of the data for training\n",
        "train_dataset = filtered_data_withlabel[\"train\"].train_test_split(train_size=0.7, stratify_by_column='labels', seed=40)\n",
        "\n",
        "# We split the remaining 30% between validation and test\n",
        "val_dataset = train_dataset[\"test\"].train_test_split(test_size=0.5, stratify_by_column='labels', seed=40)\n",
        "val_dataset[\"validation\"] = val_dataset.pop(\"train\")\n",
        "\n",
        "# Combine datasets into one 'processed dataset'\n",
        "combined_processed_data = DatasetDict({'train': train_dataset['train'],\n",
        "                                       'validation': val_dataset['validation'],\n",
        "                                       'test': val_dataset['test']})\n",
        "\n"
      ]
    },
    {
      "cell_type": "markdown",
      "source": [
        "**5. Tokenize the data**"
      ],
      "metadata": {
        "id": "WKvE1ohtAepT"
      }
    },
    {
      "cell_type": "code",
      "execution_count": 57,
      "metadata": {
        "id": "eJql46ZoMgo0"
      },
      "outputs": [],
      "source": [
        "# For this problem, I chose to utilize Bio_ClinicalBERT as a pre-trained model to finetune.\n",
        "# Bio_ClinicalBERT is a good candidate given it has already been trained on a corpus\n",
        "# of medical text. As such, it may be sufficiently suited\n",
        "# for fine-tuning  on medical transcripts as a downstream task.\n",
        "\n",
        "# Set model checkpoint and load model+ tokenizer.\n",
        "checkpoint = \"emilyalsentzer/Bio_ClinicalBERT\"\n",
        "tokenizer = AutoTokenizer.from_pretrained(checkpoint)\n",
        "\n",
        "# Define a tokenization function.\n",
        "# As before, we can use this to map each transcription to a tokenizer.\n",
        "def tokenize_function(example):\n",
        "    # Set max token length based on our\n",
        "    return tokenizer(example['transcription'], truncation=True, max_length=512)"
      ]
    },
    {
      "cell_type": "code",
      "execution_count": 58,
      "metadata": {
        "colab": {
          "base_uri": "https://localhost:8080/",
          "height": 113,
          "referenced_widgets": [
            "fbc88f70525f4c0b97a9c3036062a8b3",
            "60b9b71420ea42f5b5906c8e50e6813d",
            "8ff6df68eb034f60a3424567c38fb3b5",
            "1001ee3350da46b29aa34fd7084fbec0",
            "05eb6b32c7434193b5ad689d42fb1ccd",
            "0df75dcb0f7448a5825c0e133ef327a8",
            "40aa77394ae04ef4a054a9972eb1fbb7",
            "dd165e5627ad4767931deb9a44aa627c",
            "1c72acf0f7bb4d2ab0037cdc5e44c8d6",
            "b8bd84e5c45949b69bc0403f321a5c07",
            "5142faaf6c0841eebbc006dfe6e5d3d8",
            "d7ba00ed220e435fada9b38ef3127a89",
            "f32bbe2647cb444999238b7a3480c119",
            "be8687f4bfc6409ab137bf9fbe41b8ad",
            "73b01a63f61b47569331db5f9890a954",
            "e062d846691a41ba803bdeb31a52be7c",
            "0a56a19cd2074baf961554a557f59506",
            "ae6f7fbbd9404d32979974a535a36440",
            "d18c22de9601481a9b834e8d57bd831d",
            "286bb791261f46b4936125d75f187fc6",
            "7ea642b4a0e84df6a0cf050d17e90079",
            "49e05385c7df4fafa3bbf1588560b4e1",
            "cc35f3a26d4d42b59539fac0bdcf434f",
            "206208dd9da446efb4c0522a9e8d7843",
            "3f3732293f1b45aeb2fb4d8dfed432cf",
            "07cbdbe01d774ca1adcedcfee3049123",
            "1c67ec7f439a4769aadea4125722d92c",
            "6afc5e99fc634df595bad1896168f284",
            "2e8a1a4fae474b07bd430ad578127678",
            "3f1ec96669b34a37a46368efe09e9d1c",
            "200fa25e26504ac59c1be418b451c5a8",
            "7a2159cceb1748baa8ad54aa002f86ed",
            "21dff13f948c4458957487095d12891d"
          ]
        },
        "id": "QNso0yNbnMj5",
        "outputId": "a877c843-2417-41bd-de5f-1a3c90d060cc"
      },
      "outputs": [
        {
          "output_type": "display_data",
          "data": {
            "text/plain": [
              "Map:   0%|          | 0/2283 [00:00<?, ? examples/s]"
            ],
            "application/vnd.jupyter.widget-view+json": {
              "version_major": 2,
              "version_minor": 0,
              "model_id": "fbc88f70525f4c0b97a9c3036062a8b3"
            }
          },
          "metadata": {}
        },
        {
          "output_type": "display_data",
          "data": {
            "text/plain": [
              "Map:   0%|          | 0/489 [00:00<?, ? examples/s]"
            ],
            "application/vnd.jupyter.widget-view+json": {
              "version_major": 2,
              "version_minor": 0,
              "model_id": "d7ba00ed220e435fada9b38ef3127a89"
            }
          },
          "metadata": {}
        },
        {
          "output_type": "display_data",
          "data": {
            "text/plain": [
              "Map:   0%|          | 0/490 [00:00<?, ? examples/s]"
            ],
            "application/vnd.jupyter.widget-view+json": {
              "version_major": 2,
              "version_minor": 0,
              "model_id": "cc35f3a26d4d42b59539fac0bdcf434f"
            }
          },
          "metadata": {}
        }
      ],
      "source": [
        "# Tokenize the dataset\n",
        "tokenized_dataset = combined_processed_data.map(tokenize_function, batched=True)\n",
        "# Remove columns that the trainer does not need. We only wish to have the tokenized transcriptions, class labels, and attention masks\n",
        "tokenized_dataset = tokenized_dataset.remove_columns([\"Unnamed: 0\", \"description\", \"medical_specialty\", \"sample_name\", \"transcription\", \"keywords\"])\n",
        "# Set format to torch in preparation for training\n",
        "tokenized_dataset.set_format(\"torch\")\n",
        "\n",
        "# Here we define a DataCollator, which is an object that allows us to dynamically pad our input tensors.\n",
        "# Since we have text squences of different lengths, we must pad all smaller sequences in a tensor to the largest available sequence\n",
        "# before passing it to a model. While we can do this globally, it is often not a good approach since the longest sequence globally\n",
        "# may be substantially larger than most other sequences. This would mean most sequences are heavily exetended with pad tokens,\n",
        "# significaltly slowing down model training and the its ability to geenralize patterns (pad tokens offer no unique information.)\n",
        "# As an alternative, we can pad batch wise instead, such that we can take advantange of vectorizing our inputs (passing batches is faster) while\n",
        "# avoiding too much padding.\n",
        "data_collator = DataCollatorWithPadding(tokenizer=tokenizer)\n",
        "\n",
        "# set batch_size\n",
        "BATCH_SIZE = 16\n",
        "\n",
        "# Create DataLoader objects that batch our data and prepare it for ingestion at the training or evaluation loop.\n",
        "train_dataloader = DataLoader(tokenized_dataset[\"train\"], shuffle=True, batch_size=BATCH_SIZE, collate_fn=data_collator)\n",
        "eval_dataloader = DataLoader(tokenized_dataset[\"validation\"], shuffle=True, batch_size=BATCH_SIZE, collate_fn=data_collator)\n",
        "test_dataloader = DataLoader(tokenized_dataset[\"test\"], shuffle=True, batch_size=BATCH_SIZE, collate_fn=data_collator)"
      ]
    },
    {
      "cell_type": "markdown",
      "source": [
        "**6. Instantiate model and training loop**"
      ],
      "metadata": {
        "id": "7Jl0FPfKG9JH"
      }
    },
    {
      "cell_type": "code",
      "execution_count": null,
      "metadata": {
        "id": "qgzQyNRjMo_-"
      },
      "outputs": [],
      "source": [
        "# Instantiate model\n",
        "# Set number of unique labels.\n",
        "model = AutoModelForSequenceClassification.from_pretrained(checkpoint, num_labels=13)\n",
        "model.to(device)\n",
        "# Instantiate an optimizer and a learning rate. Here, we use Adam which is a common optimizer.\n",
        "optimizer = AdamW(model.parameters(), lr=5e-5)\n",
        "\n",
        "# Set epoch number\n",
        "num_epochs = 3\n",
        "num_training_steps = num_epochs * len(train_dataloader)\n",
        "\n",
        "# Set lr scheduler. The lr scheduler dynamically adjusts our learning rate based\n",
        "# on the gradient of the loss as a function of model weights\n",
        "lr_scheduler = get_scheduler(\n",
        "    \"linear\",\n",
        "    optimizer=optimizer,\n",
        "    num_warmup_steps=0,\n",
        "    num_training_steps=num_training_steps,\n",
        ")\n"
      ]
    },
    {
      "cell_type": "markdown",
      "source": [
        "**7. Train**"
      ],
      "metadata": {
        "id": "ksfOOc1gXSRx"
      }
    },
    {
      "cell_type": "code",
      "source": [
        "def compute_f1_score(model, dataloader):\n",
        "\n",
        "  '''\n",
        "  Computes macro (class average) F1 score\n",
        "\n",
        "  Args:\n",
        "  model: torch model we instantiated with checkpoint\n",
        "  dataloader: The evaluation datalaoder which contains our validation set\n",
        "\n",
        "  Returns:\n",
        "  f1 score of type (float)\n",
        "  '''\n",
        "\n",
        "  # Keeps track of predictions and ground truths\n",
        "  predictions = []\n",
        "  ground_truth = []\n",
        "\n",
        "  # loads each batch from the validation set\n",
        "  for batch in dataloader:\n",
        "      batch = {k: v.to(device) for k, v in batch.items()}\n",
        "      # computes model output\n",
        "      with torch.no_grad():\n",
        "          outputs = model(**batch)\n",
        "      # consolidates prediction\n",
        "      logits = outputs.logits\n",
        "      prediction = torch.argmax(logits, dim=-1)\n",
        "\n",
        "      predictions.append(prediction)\n",
        "      ground_truth.append(batch['labels'])\n",
        "  # Flatten the batch of tensors to a single long tensor for each and then covert to list\n",
        "  flattened_predictions = torch.cat(predictions, dim=0).tolist()\n",
        "  flattened_ground_truth = torch.cat(ground_truth, dim=0).tolist()\n",
        "\n",
        "  # Pass lists to f1 score metric to compute.\n",
        "  precision, recall, f1, support = precision_recall_fscore_support(flattened_ground_truth, flattened_predictions, average=\"macro\")\n",
        "  return f1\n"
      ],
      "metadata": {
        "id": "3ZVs_X1rR04-"
      },
      "execution_count": 60,
      "outputs": []
    },
    {
      "cell_type": "code",
      "execution_count": null,
      "metadata": {
        "id": "HNPsMNYeXlTp"
      },
      "outputs": [],
      "source": [
        "# Keep track of loss\n",
        "losses = []\n",
        "validation_f1_scores = []\n",
        "\n",
        "count = 0\n",
        "\n",
        "# Track f1\n",
        "best_f1 = 0.0\n",
        "current_f1 = 0.0\n",
        "eval_interval = 50\n",
        "\n",
        "model.train()\n",
        "progress_bar = tqdm(range(num_training_steps))\n",
        "for epoch in range(num_epochs):\n",
        "    for batch in train_dataloader:\n",
        "        count += 1\n",
        "\n",
        "        batch = {k: v.to(device) for k, v in batch.items()}\n",
        "        outputs = model(**batch)\n",
        "        loss = outputs.loss\n",
        "        losses.append(loss)\n",
        "        loss.backward()\n",
        "\n",
        "        optimizer.step()\n",
        "        lr_scheduler.step()\n",
        "        optimizer.zero_grad()\n",
        "        progress_bar.update(1)\n",
        "\n",
        "        # Evaluate f1 periodically\n",
        "        if count % eval_interval == 0:  # Evaluate for a set iterval\n",
        "            model.eval()\n",
        "            with torch.no_grad():\n",
        "                validation_f1 = compute_f1_score(model, eval_dataloader)\n",
        "                validation_f1_scores.append(validation_f1)\n",
        "                print(f\"Validation F1: \" + str(validation_f1))\n",
        "\n",
        "                # Save the model if the validation F1 improves\n",
        "                if validation_f1 > best_f1:\n",
        "                    best_f1 = validation_f1\n",
        "                    torch.save(model.state_dict(), \"/content/drive/MyDrive/Colab Notebooks/best_model.pth\")\n",
        "\n",
        "            model.train()"
      ]
    },
    {
      "cell_type": "code",
      "source": [
        "# Inspect losses and f1 scores:\n",
        "losses_float = [tensor.item() for tensor in losses]\n",
        "plt.plot(losses_float)\n",
        "\n",
        "print(validation_f1_scores)"
      ],
      "metadata": {
        "id": "3aJf81m4jt3S"
      },
      "execution_count": null,
      "outputs": []
    },
    {
      "cell_type": "markdown",
      "source": [
        "**8. Evaluate training on validation and test sets.**"
      ],
      "metadata": {
        "id": "HrHqSYJ4Y0Rt"
      }
    },
    {
      "cell_type": "code",
      "execution_count": 76,
      "metadata": {
        "id": "o6b2AKT4oFv_"
      },
      "outputs": [],
      "source": [
        "# Start by laoding the model with th best macro F1 score:\n",
        "model.load_state_dict(torch.load(\"/content/drive/MyDrive/Colab Notebooks/best_model.pth\"))\n",
        "model.eval()\n",
        "# Compute model predictions for the validation dataset\n",
        "predictions = []\n",
        "ground_truth = []\n",
        "\n",
        "for batch in eval_dataloader:\n",
        "    batch = {k: v.to(device) for k, v in batch.items()}\n",
        "    with torch.no_grad():\n",
        "        outputs = model(**batch)\n",
        "\n",
        "    logits = outputs.logits\n",
        "    prediction = torch.argmax(logits, dim=-1)\n",
        "\n",
        "    predictions.append(prediction)\n",
        "    ground_truth.append(batch['labels'])\n",
        "\n",
        "# Flatten the batch of tensors to a single long tensor for each and then covert to list\n",
        "flattened_predictions = torch.cat(predictions, dim=0).tolist()\n",
        "flattened_ground_truth = torch.cat(ground_truth, dim=0).tolist()"
      ]
    },
    {
      "cell_type": "code",
      "source": [
        "# Compute precision, accuracy and recall. We first look at the per class values\n",
        "precision, recall, f1, support = precision_recall_fscore_support(flattened_ground_truth, flattened_predictions, average=\"weighted\")"
      ],
      "metadata": {
        "id": "vhsNoSmLfTKu"
      },
      "execution_count": 70,
      "outputs": []
    },
    {
      "cell_type": "code",
      "source": [
        "f1"
      ],
      "metadata": {
        "colab": {
          "base_uri": "https://localhost:8080/"
        },
        "id": "VUgcbTfYdqZl",
        "outputId": "26d800a7-26ca-40db-ffe9-dbf8ae7dbf09"
      },
      "execution_count": 73,
      "outputs": [
        {
          "output_type": "execute_result",
          "data": {
            "text/plain": [
              "0.37228258977225015"
            ]
          },
          "metadata": {},
          "execution_count": 73
        }
      ]
    },
    {
      "cell_type": "markdown",
      "source": [
        "**10. Lock or re-adjust**"
      ],
      "metadata": {
        "id": "-35jFdmTkoxz"
      }
    },
    {
      "cell_type": "markdown",
      "source": [
        "From our initial experiment, we reach an aggregate f1 score of 0.465. While this is not a high f1 score, class imbalance is likely a reason the classifier struggles to accurately predict. As an additional experiment, we run the same training but **upweight classes that are sparse**.\n",
        "\n"
      ],
      "metadata": {
        "id": "q0JnqD1zk47U"
      }
    },
    {
      "cell_type": "markdown",
      "source": [
        "**Adjustment 1: Upweight classes**"
      ],
      "metadata": {
        "id": "YfXVJjb_pHAZ"
      }
    },
    {
      "cell_type": "code",
      "execution_count": null,
      "metadata": {
        "colab": {
          "base_uri": "https://localhost:8080/"
        },
        "id": "IieXh_lttKaM",
        "outputId": "2eb0f143-c68a-4271-e102-3fa834f0cd65"
      },
      "outputs": [
        {
          "output_type": "execute_result",
          "data": {
            "text/plain": [
              "tensor([1.0000, 1.0000, 1.5000, 1.0000, 1.5000, 1.5000, 1.0000, 1.0000, 1.5000,\n",
              "        1.0000, 1.0000, 1.5000, 1.0000], device='cuda:0')"
            ]
          },
          "metadata": {},
          "execution_count": 38
        }
      ],
      "source": [
        "# Set custom class weights\n",
        "\n",
        "class_weights = [1,1,1.5,1,1.5,1.5,1,1,1.5,1,1,1.5,1]\n",
        "class_weights = torch.tensor(class_weights, dtype=torch.float32).to(device)\n",
        "class_weights"
      ]
    },
    {
      "cell_type": "code",
      "source": [
        "# RE - RUN Training Loop with weighted classes\n",
        "# Keep track of loss\n",
        "losses = []\n",
        "validation_f1_scores = []\n",
        "\n",
        "count = 0\n",
        "\n",
        "# Track f1\n",
        "best_f1 = 0.0\n",
        "current_f1 = 0.0\n",
        "eval_interval = 50\n",
        "\n",
        "model.train()\n",
        "progress_bar = tqdm(range(num_training_steps))\n",
        "for epoch in range(num_epochs):\n",
        "    for batch in train_dataloader:\n",
        "        count += 1\n",
        "\n",
        "        batch = {k: v.to(device) for k, v in batch.items()}\n",
        "        outputs = model(**batch)\n",
        "        loss = outputs.loss\n",
        "        # Weight our losses\n",
        "        loss_weighted = loss * class_weights[batch['labels']].to(device)\n",
        "        # Take mean of weighted loss\n",
        "        loss_weighted = loss_weighted.mean()\n",
        "        losses.append(loss_weighted)\n",
        "        loss_weighted.backward()\n",
        "\n",
        "        optimizer.step()\n",
        "        lr_scheduler.step()\n",
        "        optimizer.zero_grad()\n",
        "        progress_bar.update(1)\n",
        "\n",
        "        # Evaluate f1 periodically\n",
        "        if count % eval_interval == 0:  # Evaluate for a set iterval\n",
        "            model.eval()\n",
        "            with torch.no_grad():\n",
        "                validation_f1 = compute_f1_score(model, eval_dataloader)\n",
        "                validation_f1_scores.append(validation_f1)\n",
        "                print(f\"Validation F1: \" + str(validation_f1))\n",
        "\n",
        "                # Save the model if the validation F1 improves\n",
        "                if validation_f1 > best_f1:\n",
        "                    best_f1 = validation_f1\n",
        "                    torch.save(model.state_dict(), \"/content/drive/MyDrive/Colab Notebooks/best_model.pth\")\n",
        "\n",
        "            model.train()"
      ],
      "metadata": {
        "id": "3z2lmMIEqRFg"
      },
      "execution_count": null,
      "outputs": []
    },
    {
      "cell_type": "code",
      "source": [
        "# Inspect f1 scores\n",
        "validation_f1_scores"
      ],
      "metadata": {
        "id": "HgaCKYBIv6SY"
      },
      "execution_count": null,
      "outputs": []
    },
    {
      "cell_type": "code",
      "source": [
        "# RE EVALUATE predictions\n",
        "\n",
        "# Load the model with th best macro F1 score:\n",
        "model.load_state_dict(torch.load(\"/content/drive/MyDrive/Colab Notebooks/best_model.pth\"))\n",
        "model.eval()\n",
        "# Compute model predictions for the validation dataset\n",
        "predictions = []\n",
        "ground_truth = []\n",
        "\n",
        "for batch in eval_dataloader:\n",
        "    batch = {k: v.to(device) for k, v in batch.items()}\n",
        "    with torch.no_grad():\n",
        "        outputs = model(**batch)\n",
        "\n",
        "    logits = outputs.logits\n",
        "    prediction = torch.argmax(logits, dim=-1)\n",
        "\n",
        "    predictions.append(prediction)\n",
        "    ground_truth.append(batch['labels'])\n",
        "\n",
        "# Flatten the batch of tensors to a single long tensor for each and then covert to list\n",
        "flattened_predictions = torch.cat(predictions, dim=0).tolist()\n",
        "flattened_ground_truth = torch.cat(ground_truth, dim=0).tolist()"
      ],
      "metadata": {
        "id": "fEEbyZ5uwY2_"
      },
      "execution_count": null,
      "outputs": []
    },
    {
      "cell_type": "code",
      "source": [
        "# Compute precision, accuracy and recall. We first look at the per class values\n",
        "precision, recall, f1, support = precision_recall_fscore_support(flattened_ground_truth, flattened_predictions, average='weighted')"
      ],
      "metadata": {
        "id": "kBNQbdtdwyWQ"
      },
      "execution_count": null,
      "outputs": []
    },
    {
      "cell_type": "markdown",
      "source": [
        "**Determination and further revision**\n",
        "\n",
        "While custom weighting has improved the f1 score for underrepresented classes, it came at the cost of loosing performance in some of the majority classes.\n",
        "\n",
        "I do think there is a set of weights that will maximize the f1 score, but I decided to try one more alternative change that did not involve fine-tuning. I inspect the distribution of the dataset and noticed each row has a 'keywords' field."
      ],
      "metadata": {
        "id": "6wlU2dQm7OTZ"
      }
    },
    {
      "cell_type": "code",
      "source": [
        "filtered_data_sanitized['train']['keywords'][0]"
      ],
      "metadata": {
        "colab": {
          "base_uri": "https://localhost:8080/",
          "height": 53
        },
        "id": "dR-LL0bq70f_",
        "outputId": "92bca555-a08c-44a5-d58f-9997d507a336"
      },
      "execution_count": null,
      "outputs": [
        {
          "output_type": "execute_result",
          "data": {
            "text/plain": [
              "'cardiovascular / pulmonary, 2-d m-mode, doppler, aortic valve, atrial enlargement, diastolic function, ejection fraction, mitral, mitral valve, pericardial effusion, pulmonary valve, regurgitation, systolic function, tricuspid, tricuspid valve, normal lv '"
            ],
            "application/vnd.google.colaboratory.intrinsic+json": {
              "type": "string"
            }
          },
          "metadata": {},
          "execution_count": 57
        }
      ]
    },
    {
      "cell_type": "markdown",
      "source": [
        "One idea I have is to condense each transcription into a set of key words. This may make training the classifier a lot easier and faster. Many times, we may not actually have access to a set of keywords as present in the dataset. As such, I build my own medical corpus from the keywords column, and use it to identify and retain only the keywords in the transcripts:"
      ],
      "metadata": {
        "id": "av-4uUir8UJR"
      }
    },
    {
      "cell_type": "markdown",
      "source": [
        "**Adjustment 2: Building custom medical dictionary to condense transcriptions**"
      ],
      "metadata": {
        "id": "kb9QEBOb9GD0"
      }
    },
    {
      "cell_type": "code",
      "source": [
        "# 1. We remove any rows that have less than 5 keywords and are not empty\n",
        "filtered_data_kwds = filtered_data_withlabel.filter(lambda x: x['keywords'] is not None)\n",
        "filtered_data_kwds = filtered_data_kwds.filter(lambda x: len(x['keywords']) > 5)\n",
        "\n",
        "# Sanitize the keywords of non-alphanumeric characters:\n",
        "# Credit: https://stackoverflow.com/questions/68028334/replace-characters-other-than-a-za-z0-9-and-decimal-values-with-space-using-rege\n",
        "def sanitize_keywords(example):\n",
        "    # Modify the column to remove special characters from the transcriptions\n",
        "    # Generally, special characters can make it more difficult for a classifier to\n",
        "    # abstract features.\n",
        "    example[\"keywords\"] = re.sub(r'[^a-zA-Z0-9]', ' ', example[\"keywords\"])\n",
        "    return example\n",
        "\n",
        "filtered_data_sanitized_kwds = filtered_data_kwds.map(sanitize_keywords)\n",
        "\n",
        "all_keywords = [w.split() for w in filtered_data_sanitized_kwds['train']['keywords'] if w is not None]\n",
        "all_keywords_flattened = [item for sublist in all_keywords for item in sublist]"
      ],
      "metadata": {
        "id": "jsuBcdx79Ckk"
      },
      "execution_count": 77,
      "outputs": []
    },
    {
      "cell_type": "code",
      "source": [
        "# Inspect the keywords\n",
        "medical_dict = set(all_keywords_flattened)\n",
        "set(all_keywords_flattened)\n",
        "# Note this dictionary is far from perfect, since some medical terms do in fact have special characters\n",
        "# so when these are removed, it results in partitioned words. (Ex: bi-polar may become two unique medicla entities 'bi' and 'polar')\n",
        "# Since the transcriptions have undergone the same sanitation, however, I believe such words will still be caught."
      ],
      "metadata": {
        "id": "RTi1QygtBxvu"
      },
      "execution_count": null,
      "outputs": []
    },
    {
      "cell_type": "code",
      "source": [
        "set(all_keywords_flattened)"
      ],
      "metadata": {
        "id": "JwcAJUZfmuTz"
      },
      "execution_count": null,
      "outputs": []
    },
    {
      "cell_type": "code",
      "source": [
        "# We now define a condense function that will take our medical transcriptions and only match words that are in the medical dictionary.\n",
        "def condense(example, medical_dict):\n",
        "\n",
        "  # This list ensures that we do not have duplicate words on the condensed sentence.\n",
        "  appeared = []\n",
        "  # This is our return value (i.e the condensed transcript)\n",
        "  condensed_word = \"\"\n",
        "\n",
        "  # isalpha ensures we are also removing numbers from the transcripts since they may not offer\n",
        "  # any useful information for this classification problem.\n",
        "  for word in example['transcription'].split():\n",
        "    if word in medical_dict and word not in appeared and word.isalpha():\n",
        "       condensed_word = condensed_word + \" \" + word\n",
        "       appeared.append(word)\n",
        "\n",
        "\n",
        "  example['transcription'] = condensed_word\n",
        "\n",
        "  return example\n",
        "\n",
        "mapping = partial(condense, medical_dict=medical_dict)\n",
        "filtered_data_condensed_kwrds = filtered_data_sanitized_kwds.map(mapping)"
      ],
      "metadata": {
        "colab": {
          "base_uri": "https://localhost:8080/",
          "height": 49,
          "referenced_widgets": [
            "5f784014e29b42e2a410ccb4f1c3339c",
            "4bb90160e37841e3b8c82fffa8248718",
            "41d941db7e714a9b9b91d1ace0e0c262",
            "0ea3caceb629478b9b1773dd0e544b74",
            "69ea3ecc4fa8462c987d707a3b835ead",
            "3ca6a3aad0a84cc89bd407c1cf9016dc",
            "cf2e18a143de42f8af3800f23110c1b8",
            "c4d7fadf08114ba8b11ad781593d23b3",
            "c395f79201d643478ad6cbbb363dea66",
            "944755b425a94f64a8126c030510fa14",
            "789fb1aafdff437c81140b1d6b624da9"
          ]
        },
        "id": "fhi73z8zDVmP",
        "outputId": "9c50f3d3-900f-4e03-8a4d-bb39ffc2797c"
      },
      "execution_count": 10,
      "outputs": [
        {
          "output_type": "display_data",
          "data": {
            "text/plain": [
              "Map:   0%|          | 0/2789 [00:00<?, ? examples/s]"
            ],
            "application/vnd.jupyter.widget-view+json": {
              "version_major": 2,
              "version_minor": 0,
              "model_id": "5f784014e29b42e2a410ccb4f1c3339c"
            }
          },
          "metadata": {}
        }
      ]
    },
    {
      "cell_type": "code",
      "source": [
        "# Inspect the data\n",
        "filtered_data_condensed_kwrds['train']['transcription'][0]\n",
        "\n",
        "# Great, we not have a condensed set transcriptions!\n",
        "# We run the exact same model, but now we use the condensed transcripts instead.\n",
        "# So as not to bloat this notebook. I ran the results by re-running some of the above cells post some modification.\n",
        "# Those cells arent shown below, but the model resuts are in the pdf!"
      ],
      "metadata": {
        "id": "HEHZM-l-GlXb"
      },
      "execution_count": null,
      "outputs": []
    }
  ],
  "metadata": {
    "accelerator": "GPU",
    "colab": {
      "provenance": [],
      "gpuType": "T4"
    },
    "kernelspec": {
      "display_name": "Python 3",
      "name": "python3"
    },
    "language_info": {
      "name": "python"
    },
    "widgets": {
      "application/vnd.jupyter.widget-state+json": {
        "fbc88f70525f4c0b97a9c3036062a8b3": {
          "model_module": "@jupyter-widgets/controls",
          "model_name": "HBoxModel",
          "model_module_version": "1.5.0",
          "state": {
            "_dom_classes": [],
            "_model_module": "@jupyter-widgets/controls",
            "_model_module_version": "1.5.0",
            "_model_name": "HBoxModel",
            "_view_count": null,
            "_view_module": "@jupyter-widgets/controls",
            "_view_module_version": "1.5.0",
            "_view_name": "HBoxView",
            "box_style": "",
            "children": [
              "IPY_MODEL_60b9b71420ea42f5b5906c8e50e6813d",
              "IPY_MODEL_8ff6df68eb034f60a3424567c38fb3b5",
              "IPY_MODEL_1001ee3350da46b29aa34fd7084fbec0"
            ],
            "layout": "IPY_MODEL_05eb6b32c7434193b5ad689d42fb1ccd"
          }
        },
        "60b9b71420ea42f5b5906c8e50e6813d": {
          "model_module": "@jupyter-widgets/controls",
          "model_name": "HTMLModel",
          "model_module_version": "1.5.0",
          "state": {
            "_dom_classes": [],
            "_model_module": "@jupyter-widgets/controls",
            "_model_module_version": "1.5.0",
            "_model_name": "HTMLModel",
            "_view_count": null,
            "_view_module": "@jupyter-widgets/controls",
            "_view_module_version": "1.5.0",
            "_view_name": "HTMLView",
            "description": "",
            "description_tooltip": null,
            "layout": "IPY_MODEL_0df75dcb0f7448a5825c0e133ef327a8",
            "placeholder": "​",
            "style": "IPY_MODEL_40aa77394ae04ef4a054a9972eb1fbb7",
            "value": "Map: 100%"
          }
        },
        "8ff6df68eb034f60a3424567c38fb3b5": {
          "model_module": "@jupyter-widgets/controls",
          "model_name": "FloatProgressModel",
          "model_module_version": "1.5.0",
          "state": {
            "_dom_classes": [],
            "_model_module": "@jupyter-widgets/controls",
            "_model_module_version": "1.5.0",
            "_model_name": "FloatProgressModel",
            "_view_count": null,
            "_view_module": "@jupyter-widgets/controls",
            "_view_module_version": "1.5.0",
            "_view_name": "ProgressView",
            "bar_style": "success",
            "description": "",
            "description_tooltip": null,
            "layout": "IPY_MODEL_dd165e5627ad4767931deb9a44aa627c",
            "max": 2283,
            "min": 0,
            "orientation": "horizontal",
            "style": "IPY_MODEL_1c72acf0f7bb4d2ab0037cdc5e44c8d6",
            "value": 2283
          }
        },
        "1001ee3350da46b29aa34fd7084fbec0": {
          "model_module": "@jupyter-widgets/controls",
          "model_name": "HTMLModel",
          "model_module_version": "1.5.0",
          "state": {
            "_dom_classes": [],
            "_model_module": "@jupyter-widgets/controls",
            "_model_module_version": "1.5.0",
            "_model_name": "HTMLModel",
            "_view_count": null,
            "_view_module": "@jupyter-widgets/controls",
            "_view_module_version": "1.5.0",
            "_view_name": "HTMLView",
            "description": "",
            "description_tooltip": null,
            "layout": "IPY_MODEL_b8bd84e5c45949b69bc0403f321a5c07",
            "placeholder": "​",
            "style": "IPY_MODEL_5142faaf6c0841eebbc006dfe6e5d3d8",
            "value": " 2283/2283 [00:06&lt;00:00, 335.00 examples/s]"
          }
        },
        "05eb6b32c7434193b5ad689d42fb1ccd": {
          "model_module": "@jupyter-widgets/base",
          "model_name": "LayoutModel",
          "model_module_version": "1.2.0",
          "state": {
            "_model_module": "@jupyter-widgets/base",
            "_model_module_version": "1.2.0",
            "_model_name": "LayoutModel",
            "_view_count": null,
            "_view_module": "@jupyter-widgets/base",
            "_view_module_version": "1.2.0",
            "_view_name": "LayoutView",
            "align_content": null,
            "align_items": null,
            "align_self": null,
            "border": null,
            "bottom": null,
            "display": null,
            "flex": null,
            "flex_flow": null,
            "grid_area": null,
            "grid_auto_columns": null,
            "grid_auto_flow": null,
            "grid_auto_rows": null,
            "grid_column": null,
            "grid_gap": null,
            "grid_row": null,
            "grid_template_areas": null,
            "grid_template_columns": null,
            "grid_template_rows": null,
            "height": null,
            "justify_content": null,
            "justify_items": null,
            "left": null,
            "margin": null,
            "max_height": null,
            "max_width": null,
            "min_height": null,
            "min_width": null,
            "object_fit": null,
            "object_position": null,
            "order": null,
            "overflow": null,
            "overflow_x": null,
            "overflow_y": null,
            "padding": null,
            "right": null,
            "top": null,
            "visibility": null,
            "width": null
          }
        },
        "0df75dcb0f7448a5825c0e133ef327a8": {
          "model_module": "@jupyter-widgets/base",
          "model_name": "LayoutModel",
          "model_module_version": "1.2.0",
          "state": {
            "_model_module": "@jupyter-widgets/base",
            "_model_module_version": "1.2.0",
            "_model_name": "LayoutModel",
            "_view_count": null,
            "_view_module": "@jupyter-widgets/base",
            "_view_module_version": "1.2.0",
            "_view_name": "LayoutView",
            "align_content": null,
            "align_items": null,
            "align_self": null,
            "border": null,
            "bottom": null,
            "display": null,
            "flex": null,
            "flex_flow": null,
            "grid_area": null,
            "grid_auto_columns": null,
            "grid_auto_flow": null,
            "grid_auto_rows": null,
            "grid_column": null,
            "grid_gap": null,
            "grid_row": null,
            "grid_template_areas": null,
            "grid_template_columns": null,
            "grid_template_rows": null,
            "height": null,
            "justify_content": null,
            "justify_items": null,
            "left": null,
            "margin": null,
            "max_height": null,
            "max_width": null,
            "min_height": null,
            "min_width": null,
            "object_fit": null,
            "object_position": null,
            "order": null,
            "overflow": null,
            "overflow_x": null,
            "overflow_y": null,
            "padding": null,
            "right": null,
            "top": null,
            "visibility": null,
            "width": null
          }
        },
        "40aa77394ae04ef4a054a9972eb1fbb7": {
          "model_module": "@jupyter-widgets/controls",
          "model_name": "DescriptionStyleModel",
          "model_module_version": "1.5.0",
          "state": {
            "_model_module": "@jupyter-widgets/controls",
            "_model_module_version": "1.5.0",
            "_model_name": "DescriptionStyleModel",
            "_view_count": null,
            "_view_module": "@jupyter-widgets/base",
            "_view_module_version": "1.2.0",
            "_view_name": "StyleView",
            "description_width": ""
          }
        },
        "dd165e5627ad4767931deb9a44aa627c": {
          "model_module": "@jupyter-widgets/base",
          "model_name": "LayoutModel",
          "model_module_version": "1.2.0",
          "state": {
            "_model_module": "@jupyter-widgets/base",
            "_model_module_version": "1.2.0",
            "_model_name": "LayoutModel",
            "_view_count": null,
            "_view_module": "@jupyter-widgets/base",
            "_view_module_version": "1.2.0",
            "_view_name": "LayoutView",
            "align_content": null,
            "align_items": null,
            "align_self": null,
            "border": null,
            "bottom": null,
            "display": null,
            "flex": null,
            "flex_flow": null,
            "grid_area": null,
            "grid_auto_columns": null,
            "grid_auto_flow": null,
            "grid_auto_rows": null,
            "grid_column": null,
            "grid_gap": null,
            "grid_row": null,
            "grid_template_areas": null,
            "grid_template_columns": null,
            "grid_template_rows": null,
            "height": null,
            "justify_content": null,
            "justify_items": null,
            "left": null,
            "margin": null,
            "max_height": null,
            "max_width": null,
            "min_height": null,
            "min_width": null,
            "object_fit": null,
            "object_position": null,
            "order": null,
            "overflow": null,
            "overflow_x": null,
            "overflow_y": null,
            "padding": null,
            "right": null,
            "top": null,
            "visibility": null,
            "width": null
          }
        },
        "1c72acf0f7bb4d2ab0037cdc5e44c8d6": {
          "model_module": "@jupyter-widgets/controls",
          "model_name": "ProgressStyleModel",
          "model_module_version": "1.5.0",
          "state": {
            "_model_module": "@jupyter-widgets/controls",
            "_model_module_version": "1.5.0",
            "_model_name": "ProgressStyleModel",
            "_view_count": null,
            "_view_module": "@jupyter-widgets/base",
            "_view_module_version": "1.2.0",
            "_view_name": "StyleView",
            "bar_color": null,
            "description_width": ""
          }
        },
        "b8bd84e5c45949b69bc0403f321a5c07": {
          "model_module": "@jupyter-widgets/base",
          "model_name": "LayoutModel",
          "model_module_version": "1.2.0",
          "state": {
            "_model_module": "@jupyter-widgets/base",
            "_model_module_version": "1.2.0",
            "_model_name": "LayoutModel",
            "_view_count": null,
            "_view_module": "@jupyter-widgets/base",
            "_view_module_version": "1.2.0",
            "_view_name": "LayoutView",
            "align_content": null,
            "align_items": null,
            "align_self": null,
            "border": null,
            "bottom": null,
            "display": null,
            "flex": null,
            "flex_flow": null,
            "grid_area": null,
            "grid_auto_columns": null,
            "grid_auto_flow": null,
            "grid_auto_rows": null,
            "grid_column": null,
            "grid_gap": null,
            "grid_row": null,
            "grid_template_areas": null,
            "grid_template_columns": null,
            "grid_template_rows": null,
            "height": null,
            "justify_content": null,
            "justify_items": null,
            "left": null,
            "margin": null,
            "max_height": null,
            "max_width": null,
            "min_height": null,
            "min_width": null,
            "object_fit": null,
            "object_position": null,
            "order": null,
            "overflow": null,
            "overflow_x": null,
            "overflow_y": null,
            "padding": null,
            "right": null,
            "top": null,
            "visibility": null,
            "width": null
          }
        },
        "5142faaf6c0841eebbc006dfe6e5d3d8": {
          "model_module": "@jupyter-widgets/controls",
          "model_name": "DescriptionStyleModel",
          "model_module_version": "1.5.0",
          "state": {
            "_model_module": "@jupyter-widgets/controls",
            "_model_module_version": "1.5.0",
            "_model_name": "DescriptionStyleModel",
            "_view_count": null,
            "_view_module": "@jupyter-widgets/base",
            "_view_module_version": "1.2.0",
            "_view_name": "StyleView",
            "description_width": ""
          }
        },
        "d7ba00ed220e435fada9b38ef3127a89": {
          "model_module": "@jupyter-widgets/controls",
          "model_name": "HBoxModel",
          "model_module_version": "1.5.0",
          "state": {
            "_dom_classes": [],
            "_model_module": "@jupyter-widgets/controls",
            "_model_module_version": "1.5.0",
            "_model_name": "HBoxModel",
            "_view_count": null,
            "_view_module": "@jupyter-widgets/controls",
            "_view_module_version": "1.5.0",
            "_view_name": "HBoxView",
            "box_style": "",
            "children": [
              "IPY_MODEL_f32bbe2647cb444999238b7a3480c119",
              "IPY_MODEL_be8687f4bfc6409ab137bf9fbe41b8ad",
              "IPY_MODEL_73b01a63f61b47569331db5f9890a954"
            ],
            "layout": "IPY_MODEL_e062d846691a41ba803bdeb31a52be7c"
          }
        },
        "f32bbe2647cb444999238b7a3480c119": {
          "model_module": "@jupyter-widgets/controls",
          "model_name": "HTMLModel",
          "model_module_version": "1.5.0",
          "state": {
            "_dom_classes": [],
            "_model_module": "@jupyter-widgets/controls",
            "_model_module_version": "1.5.0",
            "_model_name": "HTMLModel",
            "_view_count": null,
            "_view_module": "@jupyter-widgets/controls",
            "_view_module_version": "1.5.0",
            "_view_name": "HTMLView",
            "description": "",
            "description_tooltip": null,
            "layout": "IPY_MODEL_0a56a19cd2074baf961554a557f59506",
            "placeholder": "​",
            "style": "IPY_MODEL_ae6f7fbbd9404d32979974a535a36440",
            "value": "Map: 100%"
          }
        },
        "be8687f4bfc6409ab137bf9fbe41b8ad": {
          "model_module": "@jupyter-widgets/controls",
          "model_name": "FloatProgressModel",
          "model_module_version": "1.5.0",
          "state": {
            "_dom_classes": [],
            "_model_module": "@jupyter-widgets/controls",
            "_model_module_version": "1.5.0",
            "_model_name": "FloatProgressModel",
            "_view_count": null,
            "_view_module": "@jupyter-widgets/controls",
            "_view_module_version": "1.5.0",
            "_view_name": "ProgressView",
            "bar_style": "success",
            "description": "",
            "description_tooltip": null,
            "layout": "IPY_MODEL_d18c22de9601481a9b834e8d57bd831d",
            "max": 489,
            "min": 0,
            "orientation": "horizontal",
            "style": "IPY_MODEL_286bb791261f46b4936125d75f187fc6",
            "value": 489
          }
        },
        "73b01a63f61b47569331db5f9890a954": {
          "model_module": "@jupyter-widgets/controls",
          "model_name": "HTMLModel",
          "model_module_version": "1.5.0",
          "state": {
            "_dom_classes": [],
            "_model_module": "@jupyter-widgets/controls",
            "_model_module_version": "1.5.0",
            "_model_name": "HTMLModel",
            "_view_count": null,
            "_view_module": "@jupyter-widgets/controls",
            "_view_module_version": "1.5.0",
            "_view_name": "HTMLView",
            "description": "",
            "description_tooltip": null,
            "layout": "IPY_MODEL_7ea642b4a0e84df6a0cf050d17e90079",
            "placeholder": "​",
            "style": "IPY_MODEL_49e05385c7df4fafa3bbf1588560b4e1",
            "value": " 489/489 [00:00&lt;00:00, 521.10 examples/s]"
          }
        },
        "e062d846691a41ba803bdeb31a52be7c": {
          "model_module": "@jupyter-widgets/base",
          "model_name": "LayoutModel",
          "model_module_version": "1.2.0",
          "state": {
            "_model_module": "@jupyter-widgets/base",
            "_model_module_version": "1.2.0",
            "_model_name": "LayoutModel",
            "_view_count": null,
            "_view_module": "@jupyter-widgets/base",
            "_view_module_version": "1.2.0",
            "_view_name": "LayoutView",
            "align_content": null,
            "align_items": null,
            "align_self": null,
            "border": null,
            "bottom": null,
            "display": null,
            "flex": null,
            "flex_flow": null,
            "grid_area": null,
            "grid_auto_columns": null,
            "grid_auto_flow": null,
            "grid_auto_rows": null,
            "grid_column": null,
            "grid_gap": null,
            "grid_row": null,
            "grid_template_areas": null,
            "grid_template_columns": null,
            "grid_template_rows": null,
            "height": null,
            "justify_content": null,
            "justify_items": null,
            "left": null,
            "margin": null,
            "max_height": null,
            "max_width": null,
            "min_height": null,
            "min_width": null,
            "object_fit": null,
            "object_position": null,
            "order": null,
            "overflow": null,
            "overflow_x": null,
            "overflow_y": null,
            "padding": null,
            "right": null,
            "top": null,
            "visibility": null,
            "width": null
          }
        },
        "0a56a19cd2074baf961554a557f59506": {
          "model_module": "@jupyter-widgets/base",
          "model_name": "LayoutModel",
          "model_module_version": "1.2.0",
          "state": {
            "_model_module": "@jupyter-widgets/base",
            "_model_module_version": "1.2.0",
            "_model_name": "LayoutModel",
            "_view_count": null,
            "_view_module": "@jupyter-widgets/base",
            "_view_module_version": "1.2.0",
            "_view_name": "LayoutView",
            "align_content": null,
            "align_items": null,
            "align_self": null,
            "border": null,
            "bottom": null,
            "display": null,
            "flex": null,
            "flex_flow": null,
            "grid_area": null,
            "grid_auto_columns": null,
            "grid_auto_flow": null,
            "grid_auto_rows": null,
            "grid_column": null,
            "grid_gap": null,
            "grid_row": null,
            "grid_template_areas": null,
            "grid_template_columns": null,
            "grid_template_rows": null,
            "height": null,
            "justify_content": null,
            "justify_items": null,
            "left": null,
            "margin": null,
            "max_height": null,
            "max_width": null,
            "min_height": null,
            "min_width": null,
            "object_fit": null,
            "object_position": null,
            "order": null,
            "overflow": null,
            "overflow_x": null,
            "overflow_y": null,
            "padding": null,
            "right": null,
            "top": null,
            "visibility": null,
            "width": null
          }
        },
        "ae6f7fbbd9404d32979974a535a36440": {
          "model_module": "@jupyter-widgets/controls",
          "model_name": "DescriptionStyleModel",
          "model_module_version": "1.5.0",
          "state": {
            "_model_module": "@jupyter-widgets/controls",
            "_model_module_version": "1.5.0",
            "_model_name": "DescriptionStyleModel",
            "_view_count": null,
            "_view_module": "@jupyter-widgets/base",
            "_view_module_version": "1.2.0",
            "_view_name": "StyleView",
            "description_width": ""
          }
        },
        "d18c22de9601481a9b834e8d57bd831d": {
          "model_module": "@jupyter-widgets/base",
          "model_name": "LayoutModel",
          "model_module_version": "1.2.0",
          "state": {
            "_model_module": "@jupyter-widgets/base",
            "_model_module_version": "1.2.0",
            "_model_name": "LayoutModel",
            "_view_count": null,
            "_view_module": "@jupyter-widgets/base",
            "_view_module_version": "1.2.0",
            "_view_name": "LayoutView",
            "align_content": null,
            "align_items": null,
            "align_self": null,
            "border": null,
            "bottom": null,
            "display": null,
            "flex": null,
            "flex_flow": null,
            "grid_area": null,
            "grid_auto_columns": null,
            "grid_auto_flow": null,
            "grid_auto_rows": null,
            "grid_column": null,
            "grid_gap": null,
            "grid_row": null,
            "grid_template_areas": null,
            "grid_template_columns": null,
            "grid_template_rows": null,
            "height": null,
            "justify_content": null,
            "justify_items": null,
            "left": null,
            "margin": null,
            "max_height": null,
            "max_width": null,
            "min_height": null,
            "min_width": null,
            "object_fit": null,
            "object_position": null,
            "order": null,
            "overflow": null,
            "overflow_x": null,
            "overflow_y": null,
            "padding": null,
            "right": null,
            "top": null,
            "visibility": null,
            "width": null
          }
        },
        "286bb791261f46b4936125d75f187fc6": {
          "model_module": "@jupyter-widgets/controls",
          "model_name": "ProgressStyleModel",
          "model_module_version": "1.5.0",
          "state": {
            "_model_module": "@jupyter-widgets/controls",
            "_model_module_version": "1.5.0",
            "_model_name": "ProgressStyleModel",
            "_view_count": null,
            "_view_module": "@jupyter-widgets/base",
            "_view_module_version": "1.2.0",
            "_view_name": "StyleView",
            "bar_color": null,
            "description_width": ""
          }
        },
        "7ea642b4a0e84df6a0cf050d17e90079": {
          "model_module": "@jupyter-widgets/base",
          "model_name": "LayoutModel",
          "model_module_version": "1.2.0",
          "state": {
            "_model_module": "@jupyter-widgets/base",
            "_model_module_version": "1.2.0",
            "_model_name": "LayoutModel",
            "_view_count": null,
            "_view_module": "@jupyter-widgets/base",
            "_view_module_version": "1.2.0",
            "_view_name": "LayoutView",
            "align_content": null,
            "align_items": null,
            "align_self": null,
            "border": null,
            "bottom": null,
            "display": null,
            "flex": null,
            "flex_flow": null,
            "grid_area": null,
            "grid_auto_columns": null,
            "grid_auto_flow": null,
            "grid_auto_rows": null,
            "grid_column": null,
            "grid_gap": null,
            "grid_row": null,
            "grid_template_areas": null,
            "grid_template_columns": null,
            "grid_template_rows": null,
            "height": null,
            "justify_content": null,
            "justify_items": null,
            "left": null,
            "margin": null,
            "max_height": null,
            "max_width": null,
            "min_height": null,
            "min_width": null,
            "object_fit": null,
            "object_position": null,
            "order": null,
            "overflow": null,
            "overflow_x": null,
            "overflow_y": null,
            "padding": null,
            "right": null,
            "top": null,
            "visibility": null,
            "width": null
          }
        },
        "49e05385c7df4fafa3bbf1588560b4e1": {
          "model_module": "@jupyter-widgets/controls",
          "model_name": "DescriptionStyleModel",
          "model_module_version": "1.5.0",
          "state": {
            "_model_module": "@jupyter-widgets/controls",
            "_model_module_version": "1.5.0",
            "_model_name": "DescriptionStyleModel",
            "_view_count": null,
            "_view_module": "@jupyter-widgets/base",
            "_view_module_version": "1.2.0",
            "_view_name": "StyleView",
            "description_width": ""
          }
        },
        "cc35f3a26d4d42b59539fac0bdcf434f": {
          "model_module": "@jupyter-widgets/controls",
          "model_name": "HBoxModel",
          "model_module_version": "1.5.0",
          "state": {
            "_dom_classes": [],
            "_model_module": "@jupyter-widgets/controls",
            "_model_module_version": "1.5.0",
            "_model_name": "HBoxModel",
            "_view_count": null,
            "_view_module": "@jupyter-widgets/controls",
            "_view_module_version": "1.5.0",
            "_view_name": "HBoxView",
            "box_style": "",
            "children": [
              "IPY_MODEL_206208dd9da446efb4c0522a9e8d7843",
              "IPY_MODEL_3f3732293f1b45aeb2fb4d8dfed432cf",
              "IPY_MODEL_07cbdbe01d774ca1adcedcfee3049123"
            ],
            "layout": "IPY_MODEL_1c67ec7f439a4769aadea4125722d92c"
          }
        },
        "206208dd9da446efb4c0522a9e8d7843": {
          "model_module": "@jupyter-widgets/controls",
          "model_name": "HTMLModel",
          "model_module_version": "1.5.0",
          "state": {
            "_dom_classes": [],
            "_model_module": "@jupyter-widgets/controls",
            "_model_module_version": "1.5.0",
            "_model_name": "HTMLModel",
            "_view_count": null,
            "_view_module": "@jupyter-widgets/controls",
            "_view_module_version": "1.5.0",
            "_view_name": "HTMLView",
            "description": "",
            "description_tooltip": null,
            "layout": "IPY_MODEL_6afc5e99fc634df595bad1896168f284",
            "placeholder": "​",
            "style": "IPY_MODEL_2e8a1a4fae474b07bd430ad578127678",
            "value": "Map: 100%"
          }
        },
        "3f3732293f1b45aeb2fb4d8dfed432cf": {
          "model_module": "@jupyter-widgets/controls",
          "model_name": "FloatProgressModel",
          "model_module_version": "1.5.0",
          "state": {
            "_dom_classes": [],
            "_model_module": "@jupyter-widgets/controls",
            "_model_module_version": "1.5.0",
            "_model_name": "FloatProgressModel",
            "_view_count": null,
            "_view_module": "@jupyter-widgets/controls",
            "_view_module_version": "1.5.0",
            "_view_name": "ProgressView",
            "bar_style": "success",
            "description": "",
            "description_tooltip": null,
            "layout": "IPY_MODEL_3f1ec96669b34a37a46368efe09e9d1c",
            "max": 490,
            "min": 0,
            "orientation": "horizontal",
            "style": "IPY_MODEL_200fa25e26504ac59c1be418b451c5a8",
            "value": 490
          }
        },
        "07cbdbe01d774ca1adcedcfee3049123": {
          "model_module": "@jupyter-widgets/controls",
          "model_name": "HTMLModel",
          "model_module_version": "1.5.0",
          "state": {
            "_dom_classes": [],
            "_model_module": "@jupyter-widgets/controls",
            "_model_module_version": "1.5.0",
            "_model_name": "HTMLModel",
            "_view_count": null,
            "_view_module": "@jupyter-widgets/controls",
            "_view_module_version": "1.5.0",
            "_view_name": "HTMLView",
            "description": "",
            "description_tooltip": null,
            "layout": "IPY_MODEL_7a2159cceb1748baa8ad54aa002f86ed",
            "placeholder": "​",
            "style": "IPY_MODEL_21dff13f948c4458957487095d12891d",
            "value": " 490/490 [00:00&lt;00:00, 519.99 examples/s]"
          }
        },
        "1c67ec7f439a4769aadea4125722d92c": {
          "model_module": "@jupyter-widgets/base",
          "model_name": "LayoutModel",
          "model_module_version": "1.2.0",
          "state": {
            "_model_module": "@jupyter-widgets/base",
            "_model_module_version": "1.2.0",
            "_model_name": "LayoutModel",
            "_view_count": null,
            "_view_module": "@jupyter-widgets/base",
            "_view_module_version": "1.2.0",
            "_view_name": "LayoutView",
            "align_content": null,
            "align_items": null,
            "align_self": null,
            "border": null,
            "bottom": null,
            "display": null,
            "flex": null,
            "flex_flow": null,
            "grid_area": null,
            "grid_auto_columns": null,
            "grid_auto_flow": null,
            "grid_auto_rows": null,
            "grid_column": null,
            "grid_gap": null,
            "grid_row": null,
            "grid_template_areas": null,
            "grid_template_columns": null,
            "grid_template_rows": null,
            "height": null,
            "justify_content": null,
            "justify_items": null,
            "left": null,
            "margin": null,
            "max_height": null,
            "max_width": null,
            "min_height": null,
            "min_width": null,
            "object_fit": null,
            "object_position": null,
            "order": null,
            "overflow": null,
            "overflow_x": null,
            "overflow_y": null,
            "padding": null,
            "right": null,
            "top": null,
            "visibility": null,
            "width": null
          }
        },
        "6afc5e99fc634df595bad1896168f284": {
          "model_module": "@jupyter-widgets/base",
          "model_name": "LayoutModel",
          "model_module_version": "1.2.0",
          "state": {
            "_model_module": "@jupyter-widgets/base",
            "_model_module_version": "1.2.0",
            "_model_name": "LayoutModel",
            "_view_count": null,
            "_view_module": "@jupyter-widgets/base",
            "_view_module_version": "1.2.0",
            "_view_name": "LayoutView",
            "align_content": null,
            "align_items": null,
            "align_self": null,
            "border": null,
            "bottom": null,
            "display": null,
            "flex": null,
            "flex_flow": null,
            "grid_area": null,
            "grid_auto_columns": null,
            "grid_auto_flow": null,
            "grid_auto_rows": null,
            "grid_column": null,
            "grid_gap": null,
            "grid_row": null,
            "grid_template_areas": null,
            "grid_template_columns": null,
            "grid_template_rows": null,
            "height": null,
            "justify_content": null,
            "justify_items": null,
            "left": null,
            "margin": null,
            "max_height": null,
            "max_width": null,
            "min_height": null,
            "min_width": null,
            "object_fit": null,
            "object_position": null,
            "order": null,
            "overflow": null,
            "overflow_x": null,
            "overflow_y": null,
            "padding": null,
            "right": null,
            "top": null,
            "visibility": null,
            "width": null
          }
        },
        "2e8a1a4fae474b07bd430ad578127678": {
          "model_module": "@jupyter-widgets/controls",
          "model_name": "DescriptionStyleModel",
          "model_module_version": "1.5.0",
          "state": {
            "_model_module": "@jupyter-widgets/controls",
            "_model_module_version": "1.5.0",
            "_model_name": "DescriptionStyleModel",
            "_view_count": null,
            "_view_module": "@jupyter-widgets/base",
            "_view_module_version": "1.2.0",
            "_view_name": "StyleView",
            "description_width": ""
          }
        },
        "3f1ec96669b34a37a46368efe09e9d1c": {
          "model_module": "@jupyter-widgets/base",
          "model_name": "LayoutModel",
          "model_module_version": "1.2.0",
          "state": {
            "_model_module": "@jupyter-widgets/base",
            "_model_module_version": "1.2.0",
            "_model_name": "LayoutModel",
            "_view_count": null,
            "_view_module": "@jupyter-widgets/base",
            "_view_module_version": "1.2.0",
            "_view_name": "LayoutView",
            "align_content": null,
            "align_items": null,
            "align_self": null,
            "border": null,
            "bottom": null,
            "display": null,
            "flex": null,
            "flex_flow": null,
            "grid_area": null,
            "grid_auto_columns": null,
            "grid_auto_flow": null,
            "grid_auto_rows": null,
            "grid_column": null,
            "grid_gap": null,
            "grid_row": null,
            "grid_template_areas": null,
            "grid_template_columns": null,
            "grid_template_rows": null,
            "height": null,
            "justify_content": null,
            "justify_items": null,
            "left": null,
            "margin": null,
            "max_height": null,
            "max_width": null,
            "min_height": null,
            "min_width": null,
            "object_fit": null,
            "object_position": null,
            "order": null,
            "overflow": null,
            "overflow_x": null,
            "overflow_y": null,
            "padding": null,
            "right": null,
            "top": null,
            "visibility": null,
            "width": null
          }
        },
        "200fa25e26504ac59c1be418b451c5a8": {
          "model_module": "@jupyter-widgets/controls",
          "model_name": "ProgressStyleModel",
          "model_module_version": "1.5.0",
          "state": {
            "_model_module": "@jupyter-widgets/controls",
            "_model_module_version": "1.5.0",
            "_model_name": "ProgressStyleModel",
            "_view_count": null,
            "_view_module": "@jupyter-widgets/base",
            "_view_module_version": "1.2.0",
            "_view_name": "StyleView",
            "bar_color": null,
            "description_width": ""
          }
        },
        "7a2159cceb1748baa8ad54aa002f86ed": {
          "model_module": "@jupyter-widgets/base",
          "model_name": "LayoutModel",
          "model_module_version": "1.2.0",
          "state": {
            "_model_module": "@jupyter-widgets/base",
            "_model_module_version": "1.2.0",
            "_model_name": "LayoutModel",
            "_view_count": null,
            "_view_module": "@jupyter-widgets/base",
            "_view_module_version": "1.2.0",
            "_view_name": "LayoutView",
            "align_content": null,
            "align_items": null,
            "align_self": null,
            "border": null,
            "bottom": null,
            "display": null,
            "flex": null,
            "flex_flow": null,
            "grid_area": null,
            "grid_auto_columns": null,
            "grid_auto_flow": null,
            "grid_auto_rows": null,
            "grid_column": null,
            "grid_gap": null,
            "grid_row": null,
            "grid_template_areas": null,
            "grid_template_columns": null,
            "grid_template_rows": null,
            "height": null,
            "justify_content": null,
            "justify_items": null,
            "left": null,
            "margin": null,
            "max_height": null,
            "max_width": null,
            "min_height": null,
            "min_width": null,
            "object_fit": null,
            "object_position": null,
            "order": null,
            "overflow": null,
            "overflow_x": null,
            "overflow_y": null,
            "padding": null,
            "right": null,
            "top": null,
            "visibility": null,
            "width": null
          }
        },
        "21dff13f948c4458957487095d12891d": {
          "model_module": "@jupyter-widgets/controls",
          "model_name": "DescriptionStyleModel",
          "model_module_version": "1.5.0",
          "state": {
            "_model_module": "@jupyter-widgets/controls",
            "_model_module_version": "1.5.0",
            "_model_name": "DescriptionStyleModel",
            "_view_count": null,
            "_view_module": "@jupyter-widgets/base",
            "_view_module_version": "1.2.0",
            "_view_name": "StyleView",
            "description_width": ""
          }
        },
        "5f784014e29b42e2a410ccb4f1c3339c": {
          "model_module": "@jupyter-widgets/controls",
          "model_name": "HBoxModel",
          "model_module_version": "1.5.0",
          "state": {
            "_dom_classes": [],
            "_model_module": "@jupyter-widgets/controls",
            "_model_module_version": "1.5.0",
            "_model_name": "HBoxModel",
            "_view_count": null,
            "_view_module": "@jupyter-widgets/controls",
            "_view_module_version": "1.5.0",
            "_view_name": "HBoxView",
            "box_style": "",
            "children": [
              "IPY_MODEL_4bb90160e37841e3b8c82fffa8248718",
              "IPY_MODEL_41d941db7e714a9b9b91d1ace0e0c262",
              "IPY_MODEL_0ea3caceb629478b9b1773dd0e544b74"
            ],
            "layout": "IPY_MODEL_69ea3ecc4fa8462c987d707a3b835ead"
          }
        },
        "4bb90160e37841e3b8c82fffa8248718": {
          "model_module": "@jupyter-widgets/controls",
          "model_name": "HTMLModel",
          "model_module_version": "1.5.0",
          "state": {
            "_dom_classes": [],
            "_model_module": "@jupyter-widgets/controls",
            "_model_module_version": "1.5.0",
            "_model_name": "HTMLModel",
            "_view_count": null,
            "_view_module": "@jupyter-widgets/controls",
            "_view_module_version": "1.5.0",
            "_view_name": "HTMLView",
            "description": "",
            "description_tooltip": null,
            "layout": "IPY_MODEL_3ca6a3aad0a84cc89bd407c1cf9016dc",
            "placeholder": "​",
            "style": "IPY_MODEL_cf2e18a143de42f8af3800f23110c1b8",
            "value": "Map: 100%"
          }
        },
        "41d941db7e714a9b9b91d1ace0e0c262": {
          "model_module": "@jupyter-widgets/controls",
          "model_name": "FloatProgressModel",
          "model_module_version": "1.5.0",
          "state": {
            "_dom_classes": [],
            "_model_module": "@jupyter-widgets/controls",
            "_model_module_version": "1.5.0",
            "_model_name": "FloatProgressModel",
            "_view_count": null,
            "_view_module": "@jupyter-widgets/controls",
            "_view_module_version": "1.5.0",
            "_view_name": "ProgressView",
            "bar_style": "success",
            "description": "",
            "description_tooltip": null,
            "layout": "IPY_MODEL_c4d7fadf08114ba8b11ad781593d23b3",
            "max": 2789,
            "min": 0,
            "orientation": "horizontal",
            "style": "IPY_MODEL_c395f79201d643478ad6cbbb363dea66",
            "value": 2789
          }
        },
        "0ea3caceb629478b9b1773dd0e544b74": {
          "model_module": "@jupyter-widgets/controls",
          "model_name": "HTMLModel",
          "model_module_version": "1.5.0",
          "state": {
            "_dom_classes": [],
            "_model_module": "@jupyter-widgets/controls",
            "_model_module_version": "1.5.0",
            "_model_name": "HTMLModel",
            "_view_count": null,
            "_view_module": "@jupyter-widgets/controls",
            "_view_module_version": "1.5.0",
            "_view_name": "HTMLView",
            "description": "",
            "description_tooltip": null,
            "layout": "IPY_MODEL_944755b425a94f64a8126c030510fa14",
            "placeholder": "​",
            "style": "IPY_MODEL_789fb1aafdff437c81140b1d6b624da9",
            "value": " 2789/2789 [00:04&lt;00:00, 757.41 examples/s]"
          }
        },
        "69ea3ecc4fa8462c987d707a3b835ead": {
          "model_module": "@jupyter-widgets/base",
          "model_name": "LayoutModel",
          "model_module_version": "1.2.0",
          "state": {
            "_model_module": "@jupyter-widgets/base",
            "_model_module_version": "1.2.0",
            "_model_name": "LayoutModel",
            "_view_count": null,
            "_view_module": "@jupyter-widgets/base",
            "_view_module_version": "1.2.0",
            "_view_name": "LayoutView",
            "align_content": null,
            "align_items": null,
            "align_self": null,
            "border": null,
            "bottom": null,
            "display": null,
            "flex": null,
            "flex_flow": null,
            "grid_area": null,
            "grid_auto_columns": null,
            "grid_auto_flow": null,
            "grid_auto_rows": null,
            "grid_column": null,
            "grid_gap": null,
            "grid_row": null,
            "grid_template_areas": null,
            "grid_template_columns": null,
            "grid_template_rows": null,
            "height": null,
            "justify_content": null,
            "justify_items": null,
            "left": null,
            "margin": null,
            "max_height": null,
            "max_width": null,
            "min_height": null,
            "min_width": null,
            "object_fit": null,
            "object_position": null,
            "order": null,
            "overflow": null,
            "overflow_x": null,
            "overflow_y": null,
            "padding": null,
            "right": null,
            "top": null,
            "visibility": null,
            "width": null
          }
        },
        "3ca6a3aad0a84cc89bd407c1cf9016dc": {
          "model_module": "@jupyter-widgets/base",
          "model_name": "LayoutModel",
          "model_module_version": "1.2.0",
          "state": {
            "_model_module": "@jupyter-widgets/base",
            "_model_module_version": "1.2.0",
            "_model_name": "LayoutModel",
            "_view_count": null,
            "_view_module": "@jupyter-widgets/base",
            "_view_module_version": "1.2.0",
            "_view_name": "LayoutView",
            "align_content": null,
            "align_items": null,
            "align_self": null,
            "border": null,
            "bottom": null,
            "display": null,
            "flex": null,
            "flex_flow": null,
            "grid_area": null,
            "grid_auto_columns": null,
            "grid_auto_flow": null,
            "grid_auto_rows": null,
            "grid_column": null,
            "grid_gap": null,
            "grid_row": null,
            "grid_template_areas": null,
            "grid_template_columns": null,
            "grid_template_rows": null,
            "height": null,
            "justify_content": null,
            "justify_items": null,
            "left": null,
            "margin": null,
            "max_height": null,
            "max_width": null,
            "min_height": null,
            "min_width": null,
            "object_fit": null,
            "object_position": null,
            "order": null,
            "overflow": null,
            "overflow_x": null,
            "overflow_y": null,
            "padding": null,
            "right": null,
            "top": null,
            "visibility": null,
            "width": null
          }
        },
        "cf2e18a143de42f8af3800f23110c1b8": {
          "model_module": "@jupyter-widgets/controls",
          "model_name": "DescriptionStyleModel",
          "model_module_version": "1.5.0",
          "state": {
            "_model_module": "@jupyter-widgets/controls",
            "_model_module_version": "1.5.0",
            "_model_name": "DescriptionStyleModel",
            "_view_count": null,
            "_view_module": "@jupyter-widgets/base",
            "_view_module_version": "1.2.0",
            "_view_name": "StyleView",
            "description_width": ""
          }
        },
        "c4d7fadf08114ba8b11ad781593d23b3": {
          "model_module": "@jupyter-widgets/base",
          "model_name": "LayoutModel",
          "model_module_version": "1.2.0",
          "state": {
            "_model_module": "@jupyter-widgets/base",
            "_model_module_version": "1.2.0",
            "_model_name": "LayoutModel",
            "_view_count": null,
            "_view_module": "@jupyter-widgets/base",
            "_view_module_version": "1.2.0",
            "_view_name": "LayoutView",
            "align_content": null,
            "align_items": null,
            "align_self": null,
            "border": null,
            "bottom": null,
            "display": null,
            "flex": null,
            "flex_flow": null,
            "grid_area": null,
            "grid_auto_columns": null,
            "grid_auto_flow": null,
            "grid_auto_rows": null,
            "grid_column": null,
            "grid_gap": null,
            "grid_row": null,
            "grid_template_areas": null,
            "grid_template_columns": null,
            "grid_template_rows": null,
            "height": null,
            "justify_content": null,
            "justify_items": null,
            "left": null,
            "margin": null,
            "max_height": null,
            "max_width": null,
            "min_height": null,
            "min_width": null,
            "object_fit": null,
            "object_position": null,
            "order": null,
            "overflow": null,
            "overflow_x": null,
            "overflow_y": null,
            "padding": null,
            "right": null,
            "top": null,
            "visibility": null,
            "width": null
          }
        },
        "c395f79201d643478ad6cbbb363dea66": {
          "model_module": "@jupyter-widgets/controls",
          "model_name": "ProgressStyleModel",
          "model_module_version": "1.5.0",
          "state": {
            "_model_module": "@jupyter-widgets/controls",
            "_model_module_version": "1.5.0",
            "_model_name": "ProgressStyleModel",
            "_view_count": null,
            "_view_module": "@jupyter-widgets/base",
            "_view_module_version": "1.2.0",
            "_view_name": "StyleView",
            "bar_color": null,
            "description_width": ""
          }
        },
        "944755b425a94f64a8126c030510fa14": {
          "model_module": "@jupyter-widgets/base",
          "model_name": "LayoutModel",
          "model_module_version": "1.2.0",
          "state": {
            "_model_module": "@jupyter-widgets/base",
            "_model_module_version": "1.2.0",
            "_model_name": "LayoutModel",
            "_view_count": null,
            "_view_module": "@jupyter-widgets/base",
            "_view_module_version": "1.2.0",
            "_view_name": "LayoutView",
            "align_content": null,
            "align_items": null,
            "align_self": null,
            "border": null,
            "bottom": null,
            "display": null,
            "flex": null,
            "flex_flow": null,
            "grid_area": null,
            "grid_auto_columns": null,
            "grid_auto_flow": null,
            "grid_auto_rows": null,
            "grid_column": null,
            "grid_gap": null,
            "grid_row": null,
            "grid_template_areas": null,
            "grid_template_columns": null,
            "grid_template_rows": null,
            "height": null,
            "justify_content": null,
            "justify_items": null,
            "left": null,
            "margin": null,
            "max_height": null,
            "max_width": null,
            "min_height": null,
            "min_width": null,
            "object_fit": null,
            "object_position": null,
            "order": null,
            "overflow": null,
            "overflow_x": null,
            "overflow_y": null,
            "padding": null,
            "right": null,
            "top": null,
            "visibility": null,
            "width": null
          }
        },
        "789fb1aafdff437c81140b1d6b624da9": {
          "model_module": "@jupyter-widgets/controls",
          "model_name": "DescriptionStyleModel",
          "model_module_version": "1.5.0",
          "state": {
            "_model_module": "@jupyter-widgets/controls",
            "_model_module_version": "1.5.0",
            "_model_name": "DescriptionStyleModel",
            "_view_count": null,
            "_view_module": "@jupyter-widgets/base",
            "_view_module_version": "1.2.0",
            "_view_name": "StyleView",
            "description_width": ""
          }
        }
      }
    }
  },
  "nbformat": 4,
  "nbformat_minor": 0
}